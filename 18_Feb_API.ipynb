{
 "cells": [
  {
   "cell_type": "code",
   "execution_count": null,
   "id": "339ebb52-e134-4d96-98dd-251a2f159f15",
   "metadata": {},
   "outputs": [],
   "source": [
    "                                        Assignment-18_feb(API)"
   ]
  },
  {
   "cell_type": "code",
   "execution_count": null,
   "id": "ffe6af57-a354-4fa5-8141-58e7ff7101a1",
   "metadata": {},
   "outputs": [],
   "source": [
    "Q1. What is an API? Give an example, where an API is used in real life.\n",
    "ans->APIs are used in web applications to connect user-facing front ends with critical\n",
    "     back-end functionality and data. APIs are used to deliver material by streaming services such\n",
    "     as Spotify and Netflix.\n",
    "    APIs are used by automakers such as Tesla to provide software upgrades."
   ]
  },
  {
   "cell_type": "code",
   "execution_count": 1,
   "id": "4e63851d-b8a3-4a30-9f24-f05b2a046451",
   "metadata": {},
   "outputs": [],
   "source": [
    "Q2. Give advantages and disadvantages of using API.\n",
    "ans->Advantages:\n",
    "\n",
    "1.Increased Interoperability: API solutions enable different software systems to communicate with each other,\n",
    "regardless of their programming language or platform. This enhances the interoperability between systems, allowing for \n",
    "the exchange of data and functionality.\n",
    "\n",
    "2.Improved Efficiency: API driven infrastructures enable developers to reuse code and functionality from \n",
    "existing software systems, saving time and reducing the amount of code that needs to be written from scratch.\n",
    "\n",
    "3.Better User Experience: APIs can enable third-party developers to create applications that integrate \n",
    "with existing software systems, providing a better user experience and increased functionality.\n",
    "\n",
    "4.ncreased Flexibility: APIs provide developers with greater flexibility, enabling them to choose \n",
    "the best programming languages and frameworks for their needs.\n",
    "\n",
    "5.New Revenue Streams: APIs can enable companies to create new revenue streams by providing third-party \n",
    "developers with access to their software systems.\n",
    "\n",
    "DISADVANTAGE-:\n",
    "1.Security Concerns: API infrastructures can be vulnerable to security breaches, such as SQL injection attacks and \n",
    "cross-site scripting (XSS) attacks, making it crucial to implement security measures to protect against these threats.\n",
    "\n",
    "2.Complexity: APIs can be complex, requiring a significant amount of development effort to implement \n",
    "and maintain.\n",
    "\n",
    "3.Compatibility Issues: APIs can have compatibility issues between different versions of the same \n",
    "software system or between different systems, which can lead to errors and system failures.\n",
    "\n",
    "4.Dependency on Third-Party Developers: APIs rely on third-party developers to create applications \n",
    "that integrate with the software system. This can create dependencies that are outside of the control of the \n",
    "company that owns the software system.\n",
    "\n",
    "5.Governance and Management: APIs require proper governance and management to ensure they are being used correctly and consistently across different applications and systems."
   ]
  },
  {
   "cell_type": "code",
   "execution_count": null,
   "id": "cd0a96d5-e9d0-49e7-8375-4ce9207abfa7",
   "metadata": {},
   "outputs": [],
   "source": [
    "Q3. What is a Web API? Differentiate between API and Web API.\n",
    "ans->API is an interface that exposes an application's data to outside software,\n",
    "    whereas web applications are one type of API with stricter requirements. \n",
    "   These requirements include network communication,\n",
    "  SOAP as the primary protocol, and less accessibility for the public."
   ]
  },
  {
   "cell_type": "code",
   "execution_count": null,
   "id": "3b109a06-f75e-4a17-bb4a-9c505a7ed0de",
   "metadata": {},
   "outputs": [],
   "source": [
    "Q4. Explain REST and SOAP Architecture. Mention shortcomings of SOAP.\n",
    "ans->SOAP needs more bandwidth for its usage whereas REST doesn't need much bandwidth.\n",
    "   Comparing SOAP vs REST API, SOAP only works with XML formats whereas REST work with plain text,\n",
    "    XML, HTML and JSON. SOAP cannot make use of REST whereas REST can make use of SOAP."
   ]
  },
  {
   "cell_type": "code",
   "execution_count": null,
   "id": "16245599-8142-476e-9a01-1974cd8501e9",
   "metadata": {},
   "outputs": [],
   "source": [
    "Q5. Differentiate between REST and SOAP.\n",
    "ans->REST is a set of guidelines that offers flexible implementation, whereas SOAP is a protocol \n",
    "with specific requirements like XML messaging. REST APIs are lightweight, making them ideal \n",
    "    for newer contexts like the Internet of Things (IoT), mobile application development,\n",
    "    and serverless computing"
   ]
  },
  {
   "cell_type": "code",
   "execution_count": null,
   "id": "1de6382a-d6b1-4402-ba2e-3c8f137bc66a",
   "metadata": {},
   "outputs": [],
   "source": []
  }
 ],
 "metadata": {
  "kernelspec": {
   "display_name": "Python 3 (ipykernel)",
   "language": "python",
   "name": "python3"
  },
  "language_info": {
   "codemirror_mode": {
    "name": "ipython",
    "version": 3
   },
   "file_extension": ".py",
   "mimetype": "text/x-python",
   "name": "python",
   "nbconvert_exporter": "python",
   "pygments_lexer": "ipython3",
   "version": "3.10.8"
  }
 },
 "nbformat": 4,
 "nbformat_minor": 5
}
